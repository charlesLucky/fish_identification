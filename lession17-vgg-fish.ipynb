{
 "cells": [
  {
   "cell_type": "code",
   "execution_count": null,
   "metadata": {},
   "outputs": [],
   "source": [
    "import  os\n",
    "import  tensorflow as tf\n",
    "import  numpy as np\n",
    "from    tensorflow import keras\n",
    "from utils import LoadFishDataUtil\n",
    "from    tensorflow.keras import datasets, layers, optimizers, models\n",
    "from    tensorflow.keras import regularizers\n",
    "from tensorflow.keras.applications.vgg16 import VGG16\n",
    "from tensorflow.keras.models import Sequential\n",
    "from tensorflow.keras.callbacks import ModelCheckpoint\n",
    "#import tensorflow_addons as tfa\n",
    "import tensorflow_datasets as tfds\n",
    "from matplotlib import pyplot as plt"
   ]
  },
  {
   "cell_type": "code",
   "execution_count": null,
   "metadata": {},
   "outputs": [],
   "source": [
    "data_dir ='/media/xingbo/Storage/fish_identification/data/SESSION_AQUARIUM/SESSION_TRAIN'\n",
    "BATCH_SIZE = 8\n",
    "IMG_SIZE=160\n",
    "IMG_WIDTH=320\n",
    "IMG_HEIGHT=60"
   ]
  },
  {
   "cell_type": "code",
   "execution_count": null,
   "metadata": {},
   "outputs": [],
   "source": [
    "myloadData = LoadFishDataUtil(data_dir,BATCH_SIZE,IMG_WIDTH,IMG_HEIGHT)\n",
    "train_dataset,val_dataset,test_dataset,STEPS_PER_EPOCH, CLASS_NAMES,class_num = myloadData.loadFishData()\n",
    "CLASS_NAMES"
   ]
  },
  {
   "cell_type": "code",
   "execution_count": null,
   "metadata": {},
   "outputs": [],
   "source": [
    "# 定义模型\n",
    "base_model = VGG16(weights=\"imagenet\", include_top=False,\n",
    "                                input_shape=(IMG_WIDTH,IMG_HEIGHT, 3))  # 预训练的VGG16网络，替换掉顶部网络\n",
    "print(base_model.summary())\n"
   ]
  },
  {
   "cell_type": "code",
   "execution_count": null,
   "metadata": {},
   "outputs": [],
   "source": [
    "for layer in base_model.layers[:15]: layer.trainable = False  # 冻结预训练网络前15层\n",
    "top_model = Sequential()  # 自定义顶层网络\n",
    "top_model.add(layers.Flatten(input_shape=base_model.output_shape[1:]))  # 将预训练网络展平\n",
    "top_model.add(layers.Dense(2014, activation='relu'))  # 全连接层，输入像素256\n",
    "top_model.add(layers.Dropout(0.5))  # Dropout概率0.5\n",
    "top_model.add(layers.Dense(class_num, activation='softmax'))  # 输出层，概率\n",
    "top_model.summary()\n",
    "# top_model.load_weights(\"\")  # 单独训练的自定义网络\n",
    "\n",
    "model = models.Model(inputs=base_model.input, outputs=top_model(base_model.output))  # 新网络=预训练网络+自定义网络\n",
    "\n",
    "model.compile(loss='categorical_crossentropy', optimizer=optimizers.SGD(lr=0.0001, momentum=0.9),\n",
    "              metrics=['accuracy'])  # 损失函数为二进制交叉熵，优化器为SGD\n",
    "#model.compile(optimizer='adam', loss='categorical_crossentropy', metrics=[\"accuracy\"])\n",
    "\n",
    "model.summary()\n"
   ]
  },
  {
   "cell_type": "code",
   "execution_count": null,
   "metadata": {},
   "outputs": [],
   "source": []
  },
  {
   "cell_type": "code",
   "execution_count": null,
   "metadata": {},
   "outputs": [],
   "source": [
    "#checkpointer = ModelCheckpoint(filepath='dogcatmodel.h5', verbose=1, save_best_only=True)  # 保存最优模型\n",
    "# train\n",
    "epochs = 10\n",
    "validation_steps = 20\n",
    "history=model.fit(train_dataset, epochs=epochs,\n",
    "          validation_data=val_dataset, verbose=1, validation_steps=validation_steps)\n",
    "\n",
    "# evaluate on test set\n",
    "scores = model.evaluate(test_dataset, verbose=1)\n",
    "print(\"Final test loss and accuracy :\", scores)"
   ]
  },
  {
   "cell_type": "code",
   "execution_count": null,
   "metadata": {},
   "outputs": [],
   "source": [
    "import matplotlib.pyplot as plt\n",
    "\n",
    "acc = history.history['accuracy']\n",
    "val_acc = history.history['val_accuracy']\n",
    "\n",
    "loss = history.history['loss']\n",
    "val_loss = history.history['val_loss']\n",
    "\n",
    "plt.figure(figsize=(8, 8))\n",
    "plt.subplot(2, 1, 1)\n",
    "plt.plot(acc, label='Training Accuracy')\n",
    "plt.plot(val_acc, label='Validation Accuracy')\n",
    "plt.legend(loc='lower right')\n",
    "plt.ylabel('Accuracy')\n",
    "plt.ylim([min(plt.ylim()),1])\n",
    "plt.title('Training and Validation Accuracy')\n",
    "\n",
    "plt.subplot(2, 1, 2)\n",
    "plt.plot(loss, label='Training Loss')\n",
    "plt.plot(val_loss, label='Validation Loss')\n",
    "plt.legend(loc='upper right')\n",
    "plt.ylabel('Cross Entropy')\n",
    "plt.ylim([0,1.0])\n",
    "plt.title('Training and Validation Loss')\n",
    "plt.xlabel('epoch')\n",
    "plt.show()"
   ]
  },
  {
   "cell_type": "markdown",
   "metadata": {},
   "source": [
    "## Save model"
   ]
  },
  {
   "cell_type": "code",
   "execution_count": null,
   "metadata": {},
   "outputs": [],
   "source": [
    "# Save the model\n",
    "# model.save('vggfish.h5py')"
   ]
  },
  {
   "cell_type": "code",
   "execution_count": null,
   "metadata": {},
   "outputs": [],
   "source": [
    "#model.save_weights('model/vggfish20191122.h5')"
   ]
  },
  {
   "cell_type": "code",
   "execution_count": null,
   "metadata": {},
   "outputs": [],
   "source": [
    "model.load_weights('model/vggfish20191122.h5')"
   ]
  },
  {
   "cell_type": "code",
   "execution_count": null,
   "metadata": {},
   "outputs": [],
   "source": [
    "feature_model = models.Model(inputs=model.input, outputs=model.get_layer('dense_7').output)\n"
   ]
  },
  {
   "cell_type": "code",
   "execution_count": null,
   "metadata": {},
   "outputs": [],
   "source": [
    "from tensorflow.keras.preprocessing import image\n",
    "\n",
    "test_data_dir ='/media/xingbo/Storage/fish_identification/data/SESSION_AQUARIUM/SESSION2'\n",
    "BATCH_SIZE = 8\n",
    "testloadData = LoadFishDataUtil(test_data_dir,BATCH_SIZE,IMG_WIDTH,IMG_HEIGHT,CLASS_NAMES)\n",
    "sess2_test_dataset,sess2_class_num = testloadData.loadTestFishData()\n",
    "# 创建迭代器与遍历器\n",
    "iterator = iter(sess2_test_dataset)\n",
    "image, label = iterator.get_next()\n",
    "\n",
    "n = 0\n",
    "while True:\n",
    "        try:\n",
    "            feature=feature_model(image)\n",
    "            n=n+1\n",
    "            print(n)\n",
    "            print(feature.shape)\n",
    "        except tf.errors.OutOfRangeError:\n",
    "            break\n",
    "print('The total sample number is %d.'%n)"
   ]
  },
  {
   "cell_type": "code",
   "execution_count": null,
   "metadata": {},
   "outputs": [],
   "source": [
    "\n",
    "\n",
    "img = image.load_img('/media/xingbo/Storage/fish_identification/data/SESSION_AQUARIUM/SESSION2/02883A/fish_2_02883A__03.png', target_size=(IMG_WIDTH,IMG_HEIGHT))\n",
    "#img = image.load_img('/media/xingbo/Storage/fish_identification/data/SESSION_AQUARIUM/SESSION3/02883A/fish_2_02883A_04.png', target_size=(IMG_WIDTH,IMG_HEIGHT))\n",
    "#plt.figure()\n",
    "#plt.imshow(img)\n",
    "x = image.img_to_array(img)\n",
    "x = np.expand_dims(x, axis=0)\n",
    "x=x/255\n",
    "feature = feature_model.predict(x)\n",
    "feature.shape"
   ]
  },
  {
   "cell_type": "code",
   "execution_count": null,
   "metadata": {
    "scrolled": false
   },
   "outputs": [],
   "source": [
    "test_data_dir ='/media/xingbo/Storage/fish_identification/data/SESSION_TENT/SESSION2'\n",
    "BATCH_SIZE = 8\n",
    "testloadData = LoadFishDataUtil(test_data_dir,BATCH_SIZE,IMG_WIDTH,IMG_HEIGHT,CLASS_NAMES)\n",
    "sess2_test_dataset,sess2_class_num = testloadData.loadTestFishData()\n",
    "\n",
    "sess2_test_dataset"
   ]
  },
  {
   "cell_type": "code",
   "execution_count": null,
   "metadata": {},
   "outputs": [],
   "source": [
    "loss0,accuracy0 = model.evaluate(sess2_test_dataset, steps = 20)"
   ]
  },
  {
   "cell_type": "markdown",
   "metadata": {},
   "source": [
    "for x,y in sess2_train_dataset:\n",
    "    predictions = model.predict(x)\n",
    "    #print(predictions[0])\n",
    "    #print('predictions shape:', predictions.shape)\n",
    "    print('x shape:', x.shape)\n",
    "    for n in range(8):\n",
    "        indxmax=np.argmax(predictions[n])\n",
    "        #print('predictions max index:',indxmax)\n",
    "        print('predictions:', CLASS_NAMES[indxmax] )\n",
    "        print('real:', CLASS_NAMES[np.argwhere(y[n]).ravel()] )\n",
    "       "
   ]
  },
  {
   "cell_type": "code",
   "execution_count": null,
   "metadata": {},
   "outputs": [],
   "source": []
  }
 ],
 "metadata": {
  "kernelspec": {
   "display_name": "Python 3",
   "language": "python",
   "name": "python3"
  },
  "language_info": {
   "codemirror_mode": {
    "name": "ipython",
    "version": 3
   },
   "file_extension": ".py",
   "mimetype": "text/x-python",
   "name": "python",
   "nbconvert_exporter": "python",
   "pygments_lexer": "ipython3",
   "version": "3.7.3"
  }
 },
 "nbformat": 4,
 "nbformat_minor": 2
}
