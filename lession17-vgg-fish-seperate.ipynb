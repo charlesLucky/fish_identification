{
 "cells": [
  {
   "cell_type": "code",
   "execution_count": 1,
   "metadata": {},
   "outputs": [],
   "source": [
    "import  os\n",
    "import  tensorflow as tf\n",
    "import  numpy as np\n",
    "from    tensorflow import keras\n",
    "from utils import LoadFishDataUtil\n",
    "from    tensorflow.keras import datasets, layers, optimizers, models\n",
    "from    tensorflow.keras import regularizers\n",
    "from tensorflow.keras.models import Sequential\n",
    "import pathlib\n",
    "import h5py\n"
   ]
  },
  {
   "cell_type": "code",
   "execution_count": 2,
   "metadata": {},
   "outputs": [
    {
     "name": "stdout",
     "output_type": "stream",
     "text": [
      "total images: 2623\n"
     ]
    }
   ],
   "source": [
    "#data_dir ='/media/xingbo/Storage/fish_identification/data/SESSION_TENT/SESSION1'\n",
    "data_dir ='/media/xingbo/Storage/fish_identification/data/SESSION_AQUARIUM/SESSION1_ST'\n",
    "data_dir_path = pathlib.Path(data_dir)\n",
    "image_count = len(list(data_dir_path.glob('*/*.png')))\n",
    "print('total images:',image_count)\n",
    "BATCH_SIZE = 8\n",
    "IMG_SIZE=160\n",
    "IMG_WIDTH=320\n",
    "IMG_HEIGHT=60"
   ]
  },
  {
   "cell_type": "code",
   "execution_count": 3,
   "metadata": {},
   "outputs": [
    {
     "name": "stdout",
     "output_type": "stream",
     "text": [
      "Tensor(\"Equal:0\", shape=(298,), dtype=bool)\n",
      "total class: 298\n"
     ]
    }
   ],
   "source": [
    "CLASS_NAMES=None\n",
    "SPLIT_WEIGHTS=(0.7, 0.3, 0.0)# train cv val vs test\n",
    "myloadData = LoadFishDataUtil(data_dir,BATCH_SIZE,IMG_WIDTH,IMG_HEIGHT,CLASS_NAMES,SPLIT_WEIGHTS)\n",
    "train_dataset,val_dataset,test_dataset,STEPS_PER_EPOCH, CLASS_NAMES,class_num = myloadData.loadFishData()\n",
    "input_shape=(IMG_WIDTH,IMG_HEIGHT, 3)\n",
    "print('total class:',class_num)\n"
   ]
  },
  {
   "cell_type": "code",
   "execution_count": 4,
   "metadata": {},
   "outputs": [
    {
     "name": "stdout",
     "output_type": "stream",
     "text": [
      "train_dataset_num_elements 1836, val_dataset_num_elements 786, test_dataset_num_elements 0\n"
     ]
    }
   ],
   "source": [
    "train_dataset_num_elements = tf.data.experimental.cardinality(train_dataset).numpy()\n",
    "val_dataset_num_elements = tf.data.experimental.cardinality(val_dataset).numpy()\n",
    "test_dataset_num_elements = tf.data.experimental.cardinality(test_dataset).numpy()\n",
    "print(f\"train_dataset_num_elements {train_dataset_num_elements}, val_dataset_num_elements {val_dataset_num_elements}, test_dataset_num_elements {test_dataset_num_elements}\")\n"
   ]
  },
  {
   "cell_type": "code",
   "execution_count": 5,
   "metadata": {},
   "outputs": [],
   "source": [
    "weight_decay = 0.000\n",
    "\n",
    "model = models.Sequential()\n",
    "\n",
    "model.add(layers.Conv2D(64, (3, 3), padding='same', input_shape=input_shape,\n",
    "                        kernel_regularizer=regularizers.l2(weight_decay)))\n",
    "model.add(layers.Activation('relu'))\n",
    "model.add(layers.BatchNormalization())\n",
    "model.add(layers.Dropout(0.3))\n",
    "\n",
    "model.add(layers.Conv2D(64, (3, 3), padding='same', kernel_regularizer=regularizers.l2(weight_decay)))\n",
    "model.add(layers.Activation('relu'))\n",
    "model.add(layers.BatchNormalization())\n",
    "\n",
    "model.add(layers.MaxPooling2D(pool_size=(2, 2)))\n",
    "\n",
    "model.add(layers.Conv2D(128, (3, 3), padding='same', kernel_regularizer=regularizers.l2(weight_decay)))\n",
    "model.add(layers.Activation('relu'))\n",
    "model.add(layers.BatchNormalization())\n",
    "model.add(layers.Dropout(0.4))\n",
    "\n",
    "model.add(layers.Conv2D(128, (3, 3), padding='same', kernel_regularizer=regularizers.l2(weight_decay)))\n",
    "model.add(layers.Activation('relu'))\n",
    "model.add(layers.BatchNormalization())\n",
    "\n",
    "model.add(layers.MaxPooling2D(pool_size=(2, 2)))\n",
    "\n",
    "model.add(layers.Conv2D(256, (3, 3), padding='same', kernel_regularizer=regularizers.l2(weight_decay)))\n",
    "model.add(layers.Activation('relu'))\n",
    "model.add(layers.BatchNormalization())\n",
    "model.add(layers.Dropout(0.4))\n",
    "\n",
    "model.add(layers.Conv2D(256, (3, 3), padding='same', kernel_regularizer=regularizers.l2(weight_decay)))\n",
    "model.add(layers.Activation('relu'))\n",
    "model.add(layers.BatchNormalization())\n",
    "model.add(layers.Dropout(0.4))\n",
    "\n",
    "model.add(layers.Conv2D(256, (3, 3), padding='same', kernel_regularizer=regularizers.l2(weight_decay)))\n",
    "model.add(layers.Activation('relu'))\n",
    "model.add(layers.BatchNormalization())\n",
    "\n",
    "model.add(layers.MaxPooling2D(pool_size=(2, 2)))\n",
    "\n",
    "model.add(layers.Conv2D(512, (3, 3), padding='same', kernel_regularizer=regularizers.l2(weight_decay)))\n",
    "model.add(layers.Activation('relu'))\n",
    "model.add(layers.BatchNormalization())\n",
    "model.add(layers.Dropout(0.4))\n",
    "\n",
    "model.add(layers.Conv2D(512, (3, 3), padding='same', kernel_regularizer=regularizers.l2(weight_decay)))\n",
    "model.add(layers.Activation('relu'))\n",
    "model.add(layers.BatchNormalization())\n",
    "model.add(layers.Dropout(0.4))\n",
    "\n",
    "model.add(layers.Conv2D(512, (3, 3), padding='same', kernel_regularizer=regularizers.l2(weight_decay)))\n",
    "model.add(layers.Activation('relu'))\n",
    "model.add(layers.BatchNormalization())\n",
    "\n",
    "model.add(layers.MaxPooling2D(pool_size=(2, 2)))\n",
    "\n",
    "model.add(layers.Conv2D(512, (3, 3), padding='same', kernel_regularizer=regularizers.l2(weight_decay)))\n",
    "model.add(layers.Activation('relu'))\n",
    "model.add(layers.BatchNormalization())\n",
    "model.add(layers.Dropout(0.4))\n",
    "\n",
    "model.add(layers.Conv2D(512, (3, 3), padding='same', kernel_regularizer=regularizers.l2(weight_decay)))\n",
    "model.add(layers.Activation('relu'))\n",
    "model.add(layers.BatchNormalization())\n",
    "model.add(layers.Dropout(0.4))\n",
    "\n",
    "model.add(layers.Conv2D(512, (3, 3), padding='same', kernel_regularizer=regularizers.l2(weight_decay)))\n",
    "model.add(layers.Activation('relu'))\n",
    "model.add(layers.BatchNormalization())\n",
    "\n",
    "model.add(layers.MaxPooling2D(pool_size=(2, 2)))\n",
    "model.add(layers.Dropout(0.5))\n",
    "\n",
    "model.add(layers.Flatten())\n",
    "model.add(layers.Dense(1024, kernel_regularizer=regularizers.l2(weight_decay)))\n",
    "model.add(layers.Activation('relu'))\n",
    "model.add(layers.BatchNormalization())\n",
    "\n",
    "model.add(layers.Dropout(0.5))\n",
    "model.add(layers.Dense(class_num))\n",
    "#model.add(layers.Activation('softmax'))"
   ]
  },
  {
   "cell_type": "code",
   "execution_count": 6,
   "metadata": {},
   "outputs": [
    {
     "name": "stdout",
     "output_type": "stream",
     "text": [
      "Model: \"sequential\"\n",
      "_________________________________________________________________\n",
      "Layer (type)                 Output Shape              Param #   \n",
      "=================================================================\n",
      "conv2d (Conv2D)              (None, 320, 60, 64)       1792      \n",
      "_________________________________________________________________\n",
      "activation (Activation)      (None, 320, 60, 64)       0         \n",
      "_________________________________________________________________\n",
      "batch_normalization (BatchNo (None, 320, 60, 64)       256       \n",
      "_________________________________________________________________\n",
      "dropout (Dropout)            (None, 320, 60, 64)       0         \n",
      "_________________________________________________________________\n",
      "conv2d_1 (Conv2D)            (None, 320, 60, 64)       36928     \n",
      "_________________________________________________________________\n",
      "activation_1 (Activation)    (None, 320, 60, 64)       0         \n",
      "_________________________________________________________________\n",
      "batch_normalization_1 (Batch (None, 320, 60, 64)       256       \n",
      "_________________________________________________________________\n",
      "max_pooling2d (MaxPooling2D) (None, 160, 30, 64)       0         \n",
      "_________________________________________________________________\n",
      "conv2d_2 (Conv2D)            (None, 160, 30, 128)      73856     \n",
      "_________________________________________________________________\n",
      "activation_2 (Activation)    (None, 160, 30, 128)      0         \n",
      "_________________________________________________________________\n",
      "batch_normalization_2 (Batch (None, 160, 30, 128)      512       \n",
      "_________________________________________________________________\n",
      "dropout_1 (Dropout)          (None, 160, 30, 128)      0         \n",
      "_________________________________________________________________\n",
      "conv2d_3 (Conv2D)            (None, 160, 30, 128)      147584    \n",
      "_________________________________________________________________\n",
      "activation_3 (Activation)    (None, 160, 30, 128)      0         \n",
      "_________________________________________________________________\n",
      "batch_normalization_3 (Batch (None, 160, 30, 128)      512       \n",
      "_________________________________________________________________\n",
      "max_pooling2d_1 (MaxPooling2 (None, 80, 15, 128)       0         \n",
      "_________________________________________________________________\n",
      "conv2d_4 (Conv2D)            (None, 80, 15, 256)       295168    \n",
      "_________________________________________________________________\n",
      "activation_4 (Activation)    (None, 80, 15, 256)       0         \n",
      "_________________________________________________________________\n",
      "batch_normalization_4 (Batch (None, 80, 15, 256)       1024      \n",
      "_________________________________________________________________\n",
      "dropout_2 (Dropout)          (None, 80, 15, 256)       0         \n",
      "_________________________________________________________________\n",
      "conv2d_5 (Conv2D)            (None, 80, 15, 256)       590080    \n",
      "_________________________________________________________________\n",
      "activation_5 (Activation)    (None, 80, 15, 256)       0         \n",
      "_________________________________________________________________\n",
      "batch_normalization_5 (Batch (None, 80, 15, 256)       1024      \n",
      "_________________________________________________________________\n",
      "dropout_3 (Dropout)          (None, 80, 15, 256)       0         \n",
      "_________________________________________________________________\n",
      "conv2d_6 (Conv2D)            (None, 80, 15, 256)       590080    \n",
      "_________________________________________________________________\n",
      "activation_6 (Activation)    (None, 80, 15, 256)       0         \n",
      "_________________________________________________________________\n",
      "batch_normalization_6 (Batch (None, 80, 15, 256)       1024      \n",
      "_________________________________________________________________\n",
      "max_pooling2d_2 (MaxPooling2 (None, 40, 7, 256)        0         \n",
      "_________________________________________________________________\n",
      "conv2d_7 (Conv2D)            (None, 40, 7, 512)        1180160   \n",
      "_________________________________________________________________\n",
      "activation_7 (Activation)    (None, 40, 7, 512)        0         \n",
      "_________________________________________________________________\n",
      "batch_normalization_7 (Batch (None, 40, 7, 512)        2048      \n",
      "_________________________________________________________________\n",
      "dropout_4 (Dropout)          (None, 40, 7, 512)        0         \n",
      "_________________________________________________________________\n",
      "conv2d_8 (Conv2D)            (None, 40, 7, 512)        2359808   \n",
      "_________________________________________________________________\n",
      "activation_8 (Activation)    (None, 40, 7, 512)        0         \n",
      "_________________________________________________________________\n",
      "batch_normalization_8 (Batch (None, 40, 7, 512)        2048      \n",
      "_________________________________________________________________\n",
      "dropout_5 (Dropout)          (None, 40, 7, 512)        0         \n",
      "_________________________________________________________________\n",
      "conv2d_9 (Conv2D)            (None, 40, 7, 512)        2359808   \n",
      "_________________________________________________________________\n",
      "activation_9 (Activation)    (None, 40, 7, 512)        0         \n",
      "_________________________________________________________________\n",
      "batch_normalization_9 (Batch (None, 40, 7, 512)        2048      \n",
      "_________________________________________________________________\n",
      "max_pooling2d_3 (MaxPooling2 (None, 20, 3, 512)        0         \n",
      "_________________________________________________________________\n",
      "conv2d_10 (Conv2D)           (None, 20, 3, 512)        2359808   \n",
      "_________________________________________________________________\n",
      "activation_10 (Activation)   (None, 20, 3, 512)        0         \n",
      "_________________________________________________________________\n",
      "batch_normalization_10 (Batc (None, 20, 3, 512)        2048      \n",
      "_________________________________________________________________\n",
      "dropout_6 (Dropout)          (None, 20, 3, 512)        0         \n",
      "_________________________________________________________________\n",
      "conv2d_11 (Conv2D)           (None, 20, 3, 512)        2359808   \n",
      "_________________________________________________________________\n",
      "activation_11 (Activation)   (None, 20, 3, 512)        0         \n",
      "_________________________________________________________________\n",
      "batch_normalization_11 (Batc (None, 20, 3, 512)        2048      \n",
      "_________________________________________________________________\n",
      "dropout_7 (Dropout)          (None, 20, 3, 512)        0         \n",
      "_________________________________________________________________\n",
      "conv2d_12 (Conv2D)           (None, 20, 3, 512)        2359808   \n",
      "_________________________________________________________________\n",
      "activation_12 (Activation)   (None, 20, 3, 512)        0         \n",
      "_________________________________________________________________\n",
      "batch_normalization_12 (Batc (None, 20, 3, 512)        2048      \n",
      "_________________________________________________________________\n",
      "max_pooling2d_4 (MaxPooling2 (None, 10, 1, 512)        0         \n",
      "_________________________________________________________________\n",
      "dropout_8 (Dropout)          (None, 10, 1, 512)        0         \n",
      "_________________________________________________________________\n",
      "flatten (Flatten)            (None, 5120)              0         \n",
      "_________________________________________________________________\n",
      "dense (Dense)                (None, 1024)              5243904   \n",
      "_________________________________________________________________\n",
      "activation_13 (Activation)   (None, 1024)              0         \n",
      "_________________________________________________________________\n",
      "batch_normalization_13 (Batc (None, 1024)              4096      \n",
      "_________________________________________________________________\n",
      "dropout_9 (Dropout)          (None, 1024)              0         \n",
      "_________________________________________________________________\n",
      "dense_1 (Dense)              (None, 298)               305450    \n",
      "=================================================================\n",
      "Total params: 20,285,034\n",
      "Trainable params: 20,274,538\n",
      "Non-trainable params: 10,496\n",
      "_________________________________________________________________\n"
     ]
    }
   ],
   "source": [
    "# build model and optimizer\n",
    "#model.compile(optimizer='adam', loss='categorical_crossentropy', metrics=[\"accuracy\"])\n",
    "model.compile(optimizer=keras.optimizers.Adam(0.001),\n",
    "              loss=keras.losses.CategoricalCrossentropy(from_logits=True),\n",
    "              metrics=['accuracy'])\n",
    "model.summary()\n"
   ]
  },
  {
   "cell_type": "code",
   "execution_count": 7,
   "metadata": {},
   "outputs": [],
   "source": [
    "#from tensorflow.keras.utils import plot_model\n",
    "#plot_model(model, to_file='model.png')"
   ]
  },
  {
   "cell_type": "markdown",
   "metadata": {},
   "source": [
    "## training \n"
   ]
  },
  {
   "cell_type": "code",
   "execution_count": 8,
   "metadata": {},
   "outputs": [
    {
     "name": "stdout",
     "output_type": "stream",
     "text": [
      "Train for 1836 steps, validate for 20 steps\n",
      "Epoch 1/20\n",
      "1836/1836 [==============================] - 77s 42ms/step - loss: 4.9313 - accuracy: 0.0934 - val_loss: 3.3090 - val_accuracy: 0.2438\n",
      "Epoch 2/20\n",
      "1836/1836 [==============================] - 63s 35ms/step - loss: 1.7604 - accuracy: 0.5468 - val_loss: 57.2304 - val_accuracy: 0.0125\n",
      "Epoch 3/20\n",
      "1836/1836 [==============================] - 64s 35ms/step - loss: 0.7061 - accuracy: 0.8066 - val_loss: 0.1525 - val_accuracy: 0.9312\n",
      "Epoch 4/20\n",
      "1836/1836 [==============================] - 64s 35ms/step - loss: 0.3279 - accuracy: 0.9030 - val_loss: 0.0311 - val_accuracy: 0.9875\n",
      "Epoch 5/20\n",
      "1836/1836 [==============================] - 64s 35ms/step - loss: 0.2285 - accuracy: 0.9316 - val_loss: 0.0831 - val_accuracy: 0.9750\n",
      "Epoch 6/20\n",
      "1836/1836 [==============================] - 64s 35ms/step - loss: 0.2677 - accuracy: 0.9238 - val_loss: 0.0014 - val_accuracy: 1.0000\n",
      "Epoch 7/20\n",
      "1836/1836 [==============================] - 64s 35ms/step - loss: 0.1935 - accuracy: 0.9476 - val_loss: 0.0026 - val_accuracy: 1.0000\n",
      "Epoch 8/20\n",
      "1836/1836 [==============================] - 64s 35ms/step - loss: 0.1105 - accuracy: 0.9677 - val_loss: 3.7443e-04 - val_accuracy: 1.0000\n",
      "Epoch 9/20\n",
      "1836/1836 [==============================] - 64s 35ms/step - loss: 0.1051 - accuracy: 0.9681 - val_loss: 1.8871e-04 - val_accuracy: 1.0000\n",
      "Epoch 10/20\n",
      "1836/1836 [==============================] - 64s 35ms/step - loss: 0.0673 - accuracy: 0.9792 - val_loss: 0.0019 - val_accuracy: 1.0000\n",
      "Epoch 11/20\n",
      "1836/1836 [==============================] - 64s 35ms/step - loss: 0.0581 - accuracy: 0.9815 - val_loss: 0.0097 - val_accuracy: 0.9937\n",
      "Epoch 12/20\n",
      "1836/1836 [==============================] - 64s 35ms/step - loss: 0.0707 - accuracy: 0.9789 - val_loss: 0.2816 - val_accuracy: 0.9563\n",
      "Epoch 13/20\n",
      "1836/1836 [==============================] - 64s 35ms/step - loss: 0.1294 - accuracy: 0.9641 - val_loss: 0.0107 - val_accuracy: 0.9875\n",
      "Epoch 14/20\n",
      "1836/1836 [==============================] - 64s 35ms/step - loss: 0.0506 - accuracy: 0.9854 - val_loss: 5.9223e-06 - val_accuracy: 1.0000\n",
      "Epoch 15/20\n",
      "1836/1836 [==============================] - 64s 35ms/step - loss: 0.0525 - accuracy: 0.9841 - val_loss: 9.5475e-06 - val_accuracy: 1.0000\n",
      "Epoch 16/20\n",
      "1836/1836 [==============================] - 64s 35ms/step - loss: 0.0386 - accuracy: 0.9875 - val_loss: 0.2851 - val_accuracy: 0.9812\n",
      "Epoch 17/20\n",
      "1836/1836 [==============================] - 64s 35ms/step - loss: 0.0377 - accuracy: 0.9888 - val_loss: 1.0533e-05 - val_accuracy: 1.0000\n",
      "Epoch 18/20\n",
      "1836/1836 [==============================] - 64s 35ms/step - loss: 0.0427 - accuracy: 0.9873 - val_loss: 8.7068e-06 - val_accuracy: 1.0000\n",
      "Epoch 19/20\n",
      "1836/1836 [==============================] - 64s 35ms/step - loss: 0.0429 - accuracy: 0.9883 - val_loss: 1.1392e-04 - val_accuracy: 1.0000\n",
      "Epoch 20/20\n",
      "1836/1836 [==============================] - 64s 35ms/step - loss: 0.0312 - accuracy: 0.9905 - val_loss: 0.0210 - val_accuracy: 0.9937\n"
     ]
    }
   ],
   "source": [
    "epochs = 20\n",
    "validation_steps = 20\n",
    "callback = tf.keras.callbacks.EarlyStopping(monitor='val_loss', patience=3)\n",
    "# This callback will stop the training when there is no improvement in\n",
    "# the validation loss for three consecutive epochs.\n",
    "# train\n",
    "history=model.fit(train_dataset, epochs=epochs,\n",
    "                  #callbacks=[callback],\n",
    "          validation_data=val_dataset, verbose=1, validation_steps=validation_steps)\n"
   ]
  },
  {
   "cell_type": "code",
   "execution_count": 9,
   "metadata": {},
   "outputs": [],
   "source": [
    "# evaluate on test set\n",
    "#scores = model.evaluate(test_dataset, verbose=1)\n",
    "#print(\"Final test loss and accuracy :\", scores)"
   ]
  },
  {
   "cell_type": "code",
   "execution_count": 10,
   "metadata": {},
   "outputs": [
    {
     "data": {
      "text/plain": [
       "<Figure size 800x800 with 2 Axes>"
      ]
     },
     "metadata": {},
     "output_type": "display_data"
    }
   ],
   "source": [
    "import matplotlib.pyplot as plt\n",
    "\n",
    "acc = history.history['accuracy']\n",
    "val_acc = history.history['val_accuracy']\n",
    "\n",
    "loss = history.history['loss']\n",
    "val_loss = history.history['val_loss']\n",
    "\n",
    "plt.figure(figsize=(8, 8))\n",
    "plt.subplot(2, 1, 1)\n",
    "plt.plot(acc, label='Training Accuracy')\n",
    "plt.plot(val_acc, label='Validation Accuracy')\n",
    "plt.legend(loc='lower right')\n",
    "plt.ylabel('Accuracy')\n",
    "plt.ylim([min(plt.ylim()),1])\n",
    "plt.title('Training and Validation Accuracy')\n",
    "\n",
    "plt.subplot(2, 1, 2)\n",
    "plt.plot(loss, label='Training Loss')\n",
    "plt.plot(val_loss, label='Validation Loss')\n",
    "plt.legend(loc='upper right')\n",
    "plt.ylabel('Cross Entropy')\n",
    "plt.ylim([0,1.0])\n",
    "plt.title('Training and Validation Loss')\n",
    "plt.xlabel('epoch')\n",
    "plt.show()"
   ]
  },
  {
   "cell_type": "markdown",
   "metadata": {},
   "source": [
    "## Save model"
   ]
  },
  {
   "cell_type": "code",
   "execution_count": 11,
   "metadata": {},
   "outputs": [],
   "source": [
    "# Save the model\n",
    "# model.save('vggfish.h5py')"
   ]
  },
  {
   "cell_type": "code",
   "execution_count": 12,
   "metadata": {},
   "outputs": [],
   "source": [
    "model.save_weights('model/vggfish20191125AQU_SEPRATE.h5')"
   ]
  },
  {
   "cell_type": "code",
   "execution_count": 13,
   "metadata": {},
   "outputs": [],
   "source": [
    "model.load_weights('model/vggfish20191125AQU_SEPRATE.h5')"
   ]
  },
  {
   "cell_type": "markdown",
   "metadata": {},
   "source": [
    "# extract feature\n",
    "## SESSION3"
   ]
  },
  {
   "cell_type": "code",
   "execution_count": 14,
   "metadata": {
    "scrolled": false
   },
   "outputs": [
    {
     "name": "stdout",
     "output_type": "stream",
     "text": [
      "we have total 188 images in this folder\n",
      "Tensor(\"Equal:0\", shape=(328,), dtype=bool)\n",
      "we have total 24 batches of images for testing, around 192 samples\n",
      "finanly we have 188 samples extracted features\n"
     ]
    }
   ],
   "source": [
    "test_data_dir ='/media/xingbo/Storage/fish_identification/data/SESSION_AQUARIUM/SESSION3'\n",
    "BATCH_SIZE = 8\n",
    "CLASS_NAMES = np.load('/media/xingbo/Storage/fish_identification/data/CLASS_NAMES.npy')\n",
    "#print(CLASS_NAMES)\n",
    "testloadData = LoadFishDataUtil(test_data_dir,BATCH_SIZE,IMG_WIDTH,IMG_HEIGHT,CLASS_NAMES)\n",
    "sess2_test_dataset,sess2_class_num = testloadData.loadTestFishData()\n",
    "test_num_elements = tf.data.experimental.cardinality(sess2_test_dataset).numpy()\n",
    "print(f\"we have total {test_num_elements} batches of images for testing, around {test_num_elements*BATCH_SIZE} samples\")\n",
    "# evaluate on test set\n",
    "#scores = model.evaluate(sess2_test_dataset, verbose=1)\n",
    "#print(\"Final test loss and accuracy :\", scores)\n",
    "from numpy import linalg as LA\n",
    "feats = []\n",
    "names = []\n",
    "feature_model = models.Model(inputs=model.input, outputs=model.get_layer('batch_normalization_13').output)\n",
    "n = 0\n",
    "for image_batch, label_batch in sess2_test_dataset:\n",
    "    feature=model(image_batch)\n",
    "    \n",
    "    #print(n)\n",
    "    #print(feature.shape[0])\n",
    "    for i in range(feature.shape[0]):\n",
    "        n=n+1\n",
    "        feats.append(feature[i])\n",
    "        names.append(np.argwhere(label_batch[i]).ravel())\n",
    "        indxmax=np.argmax(feature[i])\n",
    "        #print('predictions max index:',indxmax)\n",
    "        #print('predictions:', CLASS_NAMES[indxmax] )\n",
    "        #print('real:', CLASS_NAMES[np.argwhere(label_batch[i]).ravel()])\n",
    "       \n",
    "print(f\"finanly we have {n} samples extracted features\")\n",
    "feats3 = np.array(feats)\n",
    "names3 = np.array(names)\n"
   ]
  },
  {
   "cell_type": "code",
   "execution_count": 15,
   "metadata": {},
   "outputs": [
    {
     "name": "stdout",
     "output_type": "stream",
     "text": [
      "we have total 278 images in this folder\n",
      "Tensor(\"Equal:0\", shape=(328,), dtype=bool)\n",
      "we have total 35 batches of images for testing, around 280 samples\n",
      "finanly we have 278 samples extracted features\n"
     ]
    }
   ],
   "source": [
    "test_data_dir ='/media/xingbo/Storage/fish_identification/data/SESSION_AQUARIUM/SESSION2'\n",
    "BATCH_SIZE = 8\n",
    "testloadData = LoadFishDataUtil(test_data_dir,BATCH_SIZE,IMG_WIDTH,IMG_HEIGHT,CLASS_NAMES)\n",
    "sess2_test_dataset,sess2_class_num = testloadData.loadTestFishData()\n",
    "test_num_elements = tf.data.experimental.cardinality(sess2_test_dataset).numpy()\n",
    "print(f\"we have total {test_num_elements} batches of images for testing, around {test_num_elements*BATCH_SIZE} samples\")\n",
    "\n",
    "feats = []\n",
    "names = []\n",
    "feature_model = models.Model(inputs=model.input, outputs=model.get_layer('batch_normalization_13').output)\n",
    "n = 0\n",
    "for image_batch, label_batch in sess2_test_dataset:\n",
    "    feature=model(image_batch)\n",
    "    for i in range(feature.shape[0]):\n",
    "        n=n+1\n",
    "        feats.append(feature[i])\n",
    "        names.append(np.argwhere(label_batch[i]).ravel())\n",
    "        indxmax=np.argmax(feature[i])\n",
    "       \n",
    "print(f\"finanly we have {n} samples extracted features\")\n",
    "feats2 = np.array(feats)\n",
    "names2 = np.array(names)\n"
   ]
  },
  {
   "cell_type": "code",
   "execution_count": 16,
   "metadata": {},
   "outputs": [
    {
     "name": "stdout",
     "output_type": "stream",
     "text": [
      "we have total 261 images in this folder\n",
      "Tensor(\"Equal:0\", shape=(328,), dtype=bool)\n",
      "we have total 33 batches of images for testing, around 264 samples\n",
      "finanly we have 261 samples extracted features\n"
     ]
    }
   ],
   "source": [
    "test_data_dir ='/media/xingbo/Storage/fish_identification/data/SESSION_AQUARIUM/SESSION1_LT'\n",
    "BATCH_SIZE = 8\n",
    "testloadData = LoadFishDataUtil(test_data_dir,BATCH_SIZE,IMG_WIDTH,IMG_HEIGHT,CLASS_NAMES)\n",
    "sess2_test_dataset,sess2_class_num = testloadData.loadTestFishData()\n",
    "test_num_elements = tf.data.experimental.cardinality(sess2_test_dataset).numpy()\n",
    "print(f\"we have total {test_num_elements} batches of images for testing, around {test_num_elements*BATCH_SIZE} samples\")\n",
    "\n",
    "feats = []\n",
    "names = []\n",
    "feature_model = models.Model(inputs=model.input, outputs=model.get_layer('batch_normalization_13').output)\n",
    "n = 0\n",
    "for image_batch, label_batch in sess2_test_dataset:\n",
    "    feature=model(image_batch)\n",
    "    for i in range(feature.shape[0]):\n",
    "        n=n+1\n",
    "        feats.append(feature[i])\n",
    "        names.append(np.argwhere(label_batch[i]).ravel())\n",
    "        indxmax=np.argmax(feature[i])\n",
    "       \n",
    "print(f\"finanly we have {n} samples extracted features\")\n",
    "feats1 = np.array(feats)\n",
    "names1 = np.array(names)\n",
    "\n",
    "\n",
    "\n"
   ]
  },
  {
   "cell_type": "code",
   "execution_count": 17,
   "metadata": {},
   "outputs": [
    {
     "name": "stdout",
     "output_type": "stream",
     "text": [
      "--------------------------------------------------\n",
      "      writing feature extraction results ...\n",
      "--------------------------------------------------\n"
     ]
    }
   ],
   "source": [
    "# asciiList = [n.encode(\"ascii\", \"ignore\") for n in names]\n",
    "# directory for storing extracted features\n",
    "feats_save_path = '/media/xingbo/Storage/fish_identification/data/seperate3session.h5'\n",
    "print (\"--------------------------------------------------\")\n",
    "print (\"      writing feature extraction results ...\")\n",
    "print (\"--------------------------------------------------\")\n",
    "\n",
    "h5f = h5py.File(feats_save_path, 'w')\n",
    "h5f.create_dataset('Session3_features_merge3session', data=feats3)\n",
    "h5f.create_dataset('Session3_names_merge3session', data=names3)\n",
    "\n",
    "h5f.create_dataset('Session2_features_merge3session', data=feats2)\n",
    "h5f.create_dataset('Session2_names_merge3session', data=names2)\n",
    "\n",
    "h5f.create_dataset('Session1_features_merge3session', data=feats1)\n",
    "h5f.create_dataset('Session1_names_merge3session', data=names1)\n",
    "\n",
    "h5f.close()"
   ]
  },
  {
   "cell_type": "markdown",
   "metadata": {},
   "source": [
    "# load features"
   ]
  },
  {
   "cell_type": "code",
   "execution_count": 20,
   "metadata": {},
   "outputs": [
    {
     "name": "stdout",
     "output_type": "stream",
     "text": [
      "--------------------------------------------------\n",
      "      reading feature extraction results ...\n",
      "--------------------------------------------------\n"
     ]
    }
   ],
   "source": [
    "from numpy.linalg import norm\n",
    "\n",
    "feats_save_path = '/media/xingbo/Storage/fish_identification/data/seperate3session.h5'\n",
    "print (\"--------------------------------------------------\")\n",
    "print (\"      reading feature extraction results ...\")\n",
    "print (\"--------------------------------------------------\")\n",
    "\n",
    "h5f = h5py.File(feats_save_path, 'r')\n",
    "Session1_features = h5f['Session1_features_merge3session'][:]\n",
    "Session1_names = h5f['Session1_names_merge3session'][:]\n",
    "\n",
    "Session2_features = h5f['Session2_features_merge3session'][:]\n",
    "Session2_names = h5f['Session2_names_merge3session'][:]\n",
    "\n",
    "Session3_features = h5f['Session3_features_merge3session'][:]\n",
    "Session3_names = h5f['Session3_names_merge3session'][:]\n",
    "\n",
    "h5f.close()\n",
    "        "
   ]
  },
  {
   "cell_type": "markdown",
   "metadata": {},
   "source": [
    "# matching session1 vs session 2"
   ]
  },
  {
   "cell_type": "code",
   "execution_count": 21,
   "metadata": {},
   "outputs": [
    {
     "name": "stdout",
     "output_type": "stream",
     "text": [
      "(261, 278)\n",
      "(2407,)\n",
      "(70151,)\n"
     ]
    }
   ],
   "source": [
    "# extract query image's feature, compute simlarity score and sort\n",
    "scores = np.dot(Session1_features, Session2_features.T)\n",
    "print(scores.shape)\n",
    "res = 1 - np.dot(Session1_features/norm(Session1_features, axis=1)[...,None],(Session2_features/norm(Session2_features,axis=1)[...,None]).T)\n",
    "res = 1-res/2\n",
    "lable = Session1_names == Session2_names.T\n",
    "lable2 = Session1_names != Session2_names.T\n",
    "\n",
    "gscores=res[lable]\n",
    "print(gscores.shape)\n",
    "iscores=res[lable2]\n",
    "print(iscores.shape)"
   ]
  },
  {
   "cell_type": "code",
   "execution_count": 22,
   "metadata": {},
   "outputs": [],
   "source": [
    "import bob.measure\n",
    "iscores1vs2 = iscores.astype('float64')\n",
    "gscores1vs2=gscores.astype('float64') "
   ]
  },
  {
   "cell_type": "code",
   "execution_count": 23,
   "metadata": {},
   "outputs": [
    {
     "name": "stdout",
     "output_type": "stream",
     "text": [
      "we can achieve EER with 0.42295320610462833\n"
     ]
    }
   ],
   "source": [
    "EER = bob.measure.eer(iscores1vs2, gscores1vs2)\n",
    "print(f\"we can achieve EER with {EER}\")"
   ]
  },
  {
   "cell_type": "code",
   "execution_count": 24,
   "metadata": {},
   "outputs": [
    {
     "data": {
      "image/png": "[encoded data removed]",
      "text/plain": [
       "<Figure size 432x288 with 1 Axes>"
      ]
     },
     "metadata": {
      "needs_background": "light"
     },
     "output_type": "display_data"
    }
   ],
   "source": [
    "from matplotlib import pyplot\n",
    "# we assume you have your negatives and positives already split\n",
    "npoints = 100\n",
    "bob.measure.plot.roc(iscores1vs2, gscores1vs2, npoints, color=(0,0,0), linestyle='-', label='test') \n",
    "pyplot.xlabel('FPR (%)') \n",
    "pyplot.ylabel('FNR (%)') \n",
    "pyplot.grid(True)\n",
    "pyplot.show() "
   ]
  },
  {
   "cell_type": "markdown",
   "metadata": {},
   "source": [
    "# matching session1 vs session 3\n"
   ]
  },
  {
   "cell_type": "code",
   "execution_count": 25,
   "metadata": {},
   "outputs": [
    {
     "name": "stdout",
     "output_type": "stream",
     "text": [
      "(261, 188)\n",
      "(1638,)\n",
      "(47430,)\n",
      "we can achieve EER with 0.5079319900003012\n"
     ]
    },
    {
     "data": {
      "image/png": "[encoded data removed]",
      "text/plain": [
       "<Figure size 432x288 with 1 Axes>"
      ]
     },
     "metadata": {
      "needs_background": "light"
     },
     "output_type": "display_data"
    }
   ],
   "source": [
    "# extract query image's feature, compute simlarity score and sort\n",
    "scores = np.dot(Session1_features, Session3_features.T)\n",
    "print(scores.shape)\n",
    "from numpy.linalg import norm\n",
    "res = 1 - np.dot(Session1_features/norm(Session1_features, axis=1)[...,None],(Session3_features/norm(Session3_features,axis=1)[...,None]).T)\n",
    "res = 1-res/2\n",
    "lable = Session1_names == Session3_names.T\n",
    "lable2 = Session1_names != Session3_names.T\n",
    "\n",
    "gscores=res[lable]\n",
    "print(gscores.shape)\n",
    "iscores=res[lable2]\n",
    "print(iscores.shape)\n",
    "\n",
    "import bob.measure\n",
    "iscores1vs3 = iscores.astype('float64')\n",
    "gscores1vs3=gscores.astype('float64') \n",
    "EER = bob.measure.eer(iscores1vs3, gscores1vs3)\n",
    "print(f\"we can achieve EER with {EER}\")\n",
    "from matplotlib import pyplot\n",
    "# we assume you have your negatives and positives already split\n",
    "npoints = 100\n",
    "bob.measure.plot.roc(iscores1vs3, gscores1vs3, npoints, color=(0,0,0), linestyle='-', label='test') \n",
    "pyplot.xlabel('FPR (%)') \n",
    "pyplot.ylabel('FNR (%)') \n",
    "pyplot.grid(True)\n",
    "pyplot.show() "
   ]
  },
  {
   "cell_type": "markdown",
   "metadata": {},
   "source": [
    "# matching session2 vs session 3\n"
   ]
  },
  {
   "cell_type": "code",
   "execution_count": 26,
   "metadata": {},
   "outputs": [
    {
     "name": "stdout",
     "output_type": "stream",
     "text": [
      "(278, 188)\n",
      "(1751,)\n",
      "(50513,)\n",
      "we can achieve EER with 0.4563144275654119\n"
     ]
    },
    {
     "data": {
      "image/png": "[encoded data removed]",
      "text/plain": [
       "<Figure size 432x288 with 1 Axes>"
      ]
     },
     "metadata": {
      "needs_background": "light"
     },
     "output_type": "display_data"
    }
   ],
   "source": [
    "# extract query image's feature, compute simlarity score and sort\n",
    "scores = np.dot(Session2_features, Session3_features.T)\n",
    "print(scores.shape)\n",
    "from numpy.linalg import norm\n",
    "res = 1 - np.dot(Session2_features/norm(Session2_features, axis=1)[...,None],(Session3_features/norm(Session3_features,axis=1)[...,None]).T)\n",
    "res = 1-res/2\n",
    "lable = Session2_names == Session3_names.T\n",
    "lable2 = Session2_names != Session3_names.T\n",
    "\n",
    "gscores=res[lable]\n",
    "print(gscores.shape)\n",
    "iscores=res[lable2]\n",
    "print(iscores.shape)\n",
    "\n",
    "import bob.measure\n",
    "iscores2vs3 = iscores.astype('float64')\n",
    "gscores2vs3=gscores.astype('float64') \n",
    "EER = bob.measure.eer(iscores2vs3, gscores2vs3)\n",
    "print(f\"we can achieve EER with {EER}\")\n",
    "from matplotlib import pyplot\n",
    "# we assume you have your negatives and positives already split\n",
    "npoints = 100\n",
    "bob.measure.plot.roc(iscores2vs3, gscores2vs3, npoints, color=(0,0,0), linestyle='-', label='test') \n",
    "pyplot.xlabel('FPR (%)') \n",
    "pyplot.ylabel('FNR (%)') \n",
    "pyplot.grid(True)\n",
    "pyplot.show() "
   ]
  },
  {
   "cell_type": "code",
   "execution_count": 27,
   "metadata": {},
   "outputs": [
    {
     "data": {
      "image/png": "[encoded data removed]",
      "text/plain": [
       "<Figure size 432x288 with 1 Axes>"
      ]
     },
     "metadata": {
      "needs_background": "light"
     },
     "output_type": "display_data"
    }
   ],
   "source": [
    "from matplotlib import pyplot\n",
    "# we assume you have your negatives and positives already split\n",
    "npoints = 100\n",
    "bob.measure.plot.roc(iscores1vs2, gscores1vs2, npoints, color=(0,0,0), linestyle='-', label='1 vs 2') \n",
    "bob.measure.plot.roc(iscores1vs3, gscores1vs3, npoints, color=(0,0,0), linestyle='-.', label='1 vs 3') \n",
    "bob.measure.plot.roc(iscores2vs3, gscores2vs3, npoints, color=(0,0,0), linestyle=':', label='2 vs 3') \n",
    "pyplot.xlabel('FPR (%)') \n",
    "pyplot.ylabel('FNR (%)') \n",
    "pyplot.legend()\n",
    "pyplot.grid(True)\n",
    "pyplot.show() \n"
   ]
  },
  {
   "cell_type": "markdown",
   "metadata": {},
   "source": [
    "# intra session"
   ]
  },
  {
   "cell_type": "code",
   "execution_count": 28,
   "metadata": {},
   "outputs": [
    {
     "name": "stdout",
     "output_type": "stream",
     "text": [
      "we can achieve EER with 0.036225948189332294\n",
      "we can achieve EER with 0.07916609210652449\n",
      "we can achieve EER with 0.1233466104342393\n"
     ]
    },
    {
     "data": {
      "image/png": "[encoded data removed]",
      "text/plain": [
       "<Figure size 432x288 with 1 Axes>"
      ]
     },
     "metadata": {
      "needs_background": "light"
     },
     "output_type": "display_data"
    }
   ],
   "source": [
    "import bob.measure\n",
    "from matplotlib import pyplot\n",
    "from numpy.linalg import norm\n",
    "\n",
    "\n",
    "\n",
    "res = 1 - np.dot(Session1_features/norm(Session1_features, axis=1)[...,None],(Session1_features/norm(Session1_features,axis=1)[...,None]).T)\n",
    "res = 1-res/2\n",
    "lable = Session1_names == Session1_names.T\n",
    "lable2 = Session1_names != Session1_names.T\n",
    "\n",
    "gscores=res[lable]\n",
    "iscores=res[lable2]\n",
    "\n",
    "iscores1vs1 = iscores.astype('float64')\n",
    "gscores1vs1=gscores.astype('float64') \n",
    "EER1vs1 = bob.measure.eer(iscores1vs1, gscores1vs1)\n",
    "print(f\"we can achieve EER with {EER1vs1}\")\n",
    "\n",
    "res = 1 - np.dot(Session2_features/norm(Session2_features, axis=1)[...,None],(Session2_features/norm(Session2_features,axis=1)[...,None]).T)\n",
    "res = 1-res/2\n",
    "lable = Session2_names == Session2_names.T\n",
    "lable2 = Session2_names != Session2_names.T\n",
    "\n",
    "gscores=res[lable]\n",
    "iscores=res[lable2]\n",
    "\n",
    "iscores2vs2 = iscores.astype('float64')\n",
    "gscores2vs2=gscores.astype('float64') \n",
    "EER2vs2 = bob.measure.eer(iscores2vs2, gscores2vs2)\n",
    "print(f\"we can achieve EER with {EER2vs2}\")\n",
    "\n",
    "res = 1 - np.dot(Session3_features/norm(Session3_features, axis=1)[...,None],(Session3_features/norm(Session3_features,axis=1)[...,None]).T)\n",
    "res = 1-res/2\n",
    "lable = Session3_names == Session3_names.T\n",
    "lable2 = Session3_names != Session3_names.T\n",
    "\n",
    "gscores=res[lable]\n",
    "iscores=res[lable2]\n",
    "\n",
    "iscores3vs3 = iscores.astype('float64')\n",
    "gscores3vs3=gscores.astype('float64') \n",
    "EER3vs3 = bob.measure.eer(iscores3vs3, gscores3vs3)\n",
    "print(f\"we can achieve EER with {EER3vs3}\")\n",
    "\n",
    "\n",
    "from matplotlib import pyplot\n",
    "# we assume you have your negatives and positives already split\n",
    "npoints = 100\n",
    "bob.measure.plot.roc(iscores1vs1, gscores1vs1, npoints, color=(0,0,0), linestyle='-', label='inta-session1') \n",
    "bob.measure.plot.roc(iscores2vs2, gscores2vs2, npoints, color=(0,0,0), linestyle='-.', label='inta-session2') \n",
    "bob.measure.plot.roc(iscores3vs3, gscores3vs3, npoints, color=(0,0,0), linestyle=':', label='inta-session3') \n",
    "pyplot.xlabel('FPR (%)') \n",
    "pyplot.ylabel('FNR (%)') \n",
    "pyplot.legend()\n",
    "pyplot.grid(True)\n",
    "pyplot.show() "
   ]
  },
  {
   "cell_type": "code",
   "execution_count": null,
   "metadata": {},
   "outputs": [],
   "source": []
  }
 ],
 "metadata": {
  "kernelspec": {
   "display_name": "Python 3",
   "language": "python",
   "name": "python3"
  },
  "language_info": {
   "codemirror_mode": {
    "name": "ipython",
    "version": 3
   },
   "file_extension": ".py",
   "mimetype": "text/x-python",
   "name": "python",
   "nbconvert_exporter": "python",
   "pygments_lexer": "ipython3",
   "version": "3.7.3"
  }
 },
 "nbformat": 4,
 "nbformat_minor": 2
}
